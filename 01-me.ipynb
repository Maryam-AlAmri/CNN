{
 "cells": [
  {
   "cell_type": "code",
   "execution_count": null,
   "id": "8b68ada2",
   "metadata": {},
   "outputs": [],
   "source": [
    "!pip install scikit-learn"
   ]
  },
  {
   "cell_type": "code",
   "execution_count": null,
   "id": "13a693e8",
   "metadata": {},
   "outputs": [],
   "source": [
    "import torch\n",
    "import torch.nn as nn\n",
    "import torch.nn.functional as F"
   ]
  },
  {
   "cell_type": "code",
   "execution_count": null,
   "id": "51b86081",
   "metadata": {},
   "outputs": [],
   "source": [
    "from torch.utils.data import DataLoader\n",
    "from torchvision import datasets, transforms"
   ]
  },
  {
   "cell_type": "code",
   "execution_count": null,
   "id": "9cbba4ca",
   "metadata": {},
   "outputs": [],
   "source": [
    "import numpy as np\n",
    "import pandas as pd\n",
    "from sklearn.metrics import confusion_matrix\n",
    "import matplotlib.pyplot as plt\n",
    "%matplotlib inline"
   ]
  },
  {
   "cell_type": "markdown",
   "id": "9a2b426a",
   "metadata": {},
   "source": [
    "# Convert Image into Tensor"
   ]
  },
  {
   "cell_type": "code",
   "execution_count": null,
   "id": "608a9151",
   "metadata": {},
   "outputs": [],
   "source": [
    "transform = transforms.ToTensor()"
   ]
  },
  {
   "cell_type": "markdown",
   "id": "b9498dcc",
   "metadata": {},
   "source": [
    "# Load the MNIST datase "
   ]
  },
  {
   "cell_type": "code",
   "execution_count": null,
   "id": "d57f9904",
   "metadata": {},
   "outputs": [],
   "source": [
    "train_data = datasets.MNIST(root='../Data', train=True, download=True, transform = transform)"
   ]
  },
  {
   "cell_type": "code",
   "execution_count": null,
   "id": "7f8cfeae",
   "metadata": {},
   "outputs": [],
   "source": [
    "train_data"
   ]
  },
  {
   "cell_type": "code",
   "execution_count": null,
   "id": "dbf169d0",
   "metadata": {},
   "outputs": [],
   "source": [
    "test_data = datasets.MNIST(root='../Data', train= False , download=True, transform = transform)"
   ]
  },
  {
   "cell_type": "code",
   "execution_count": null,
   "id": "451850aa",
   "metadata": {},
   "outputs": [],
   "source": [
    "print(type(test_data))\n",
    "print('----------------------------------')\n",
    "print(test_data)"
   ]
  },
  {
   "cell_type": "code",
   "execution_count": null,
   "id": "10cfa3f3",
   "metadata": {},
   "outputs": [],
   "source": [
    "# Display first sample in train data\n",
    "\n",
    "print(train_data[0][0])\n",
    "\n",
    "image, labels = train_data[0]\n",
    "print(f\"label: {labels}\")"
   ]
  },
  {
   "cell_type": "code",
   "execution_count": 11,
   "id": "39a9779e",
   "metadata": {},
   "outputs": [
    {
     "data": {
      "text/plain": [
       "torch.Size([1, 28, 28])"
      ]
     },
     "execution_count": 11,
     "metadata": {},
     "output_type": "execute_result"
    }
   ],
   "source": [
    "image.shape"
   ]
  },
  {
   "cell_type": "code",
   "execution_count": 12,
   "id": "36fb314d",
   "metadata": {},
   "outputs": [
    {
     "data": {
      "text/plain": [
       "<matplotlib.image.AxesImage at 0x2544aa26550>"
      ]
     },
     "execution_count": 12,
     "metadata": {},
     "output_type": "execute_result"
    },
    {
     "data": {
      "image/png": "[encoded data removed]",
      "text/plain": [
       "<Figure size 640x480 with 1 Axes>"
      ]
     },
     "metadata": {},
     "output_type": "display_data"
    }
   ],
   "source": [
    "# Display the image\n",
    "\n",
    "plt.imshow(image.reshape((28, 28)))"
   ]
  },
  {
   "cell_type": "code",
   "execution_count": 13,
   "id": "e39288f4",
   "metadata": {},
   "outputs": [],
   "source": [
    "torch.manual_seed(101)\n",
    "\n",
    "\n",
    "train_loader = DataLoader(train_data, batch_size=100, shuffle=True)\n",
    "test_loader = DataLoader(test_data, batch_size=500, shuffle=False) # -> take only 500 sample"
   ]
  },
  {
   "cell_type": "markdown",
   "id": "4f93e10c",
   "metadata": {},
   "source": [
    "\n",
    "# "
   ]
  },
  {
   "cell_type": "code",
   "execution_count": 14,
   "id": "24762038",
   "metadata": {},
   "outputs": [],
   "source": [
    "from torchvision.utils import make_grid\n",
    "np.set_printoptions(formatter= dict(int = lambda x: f'{x:4}')) # for Formatting -> not necessary\n",
    "\n",
    "\n",
    "# get first batch\n",
    "for images, labels in train_loader:\n",
    "    break"
   ]
  },
  {
   "cell_type": "code",
   "execution_count": 15,
   "id": "de8df2f6",
   "metadata": {},
   "outputs": [
    {
     "data": {
      "text/plain": [
       "torch.Size([100, 1, 28, 28])"
      ]
     },
     "execution_count": 15,
     "metadata": {},
     "output_type": "execute_result"
    }
   ],
   "source": [
    "# the result for first batch -> (num_images_sample, channel, sizeOfImage(w, h))\n",
    "images.shape"
   ]
  },
  {
   "cell_type": "code",
   "execution_count": 16,
   "id": "973b6994",
   "metadata": {},
   "outputs": [
    {
     "name": "stdout",
     "output_type": "stream",
     "text": [
      "Number of labels/Sample torch.Size([100])\n",
      "--------------------------------------------------------------------------------\n",
      "The labels: tensor([7, 2, 3, 5, 8, 5, 3, 6, 9, 9, 1, 3, 5, 5, 4, 5, 4, 1, 0, 4, 5, 4, 5, 4,\n",
      "        0, 5, 8, 2, 2, 3, 3, 7, 2, 8, 1, 2, 3, 1, 7, 9, 0, 4, 9, 1, 7, 9, 7, 2,\n",
      "        6, 5, 5, 8, 5, 0, 4, 0, 0, 4, 9, 2, 6, 0, 8, 4, 1, 8, 5, 2, 0, 3, 3, 4,\n",
      "        6, 1, 5, 3, 5, 9, 0, 7, 4, 5, 3, 6, 6, 4, 5, 3, 9, 7, 1, 7, 6, 7, 9, 3,\n",
      "        5, 9, 9, 6])\n"
     ]
    }
   ],
   "source": [
    "print(f'Number of labels/Sample {labels.shape}')\n",
    "print('--------------------------------------------------------------------------------')\n",
    "print(f'The labels: {labels}')"
   ]
  },
  {
   "cell_type": "code",
   "execution_count": 17,
   "id": "e0ac0d89",
   "metadata": {},
   "outputs": [
    {
     "name": "stdout",
     "output_type": "stream",
     "text": [
      "First 12 Labels: [   7    2    3    5    8    5    3    6    9    9    1    3]\n"
     ]
    }
   ],
   "source": [
    "#Print first 12 labels\n",
    "print(f'First 12 Labels: {labels[:12].numpy()}') # Will print it as list"
   ]
  },
  {
   "cell_type": "code",
   "execution_count": 18,
   "id": "23c4aea2",
   "metadata": {},
   "outputs": [
    {
     "data": {
      "text/plain": [
       "<matplotlib.image.AxesImage at 0x254739b7cd0>"
      ]
     },
     "execution_count": 18,
     "metadata": {},
     "output_type": "execute_result"
    },
    {
     "data": {
      "image/png": "[encoded data removed]",
      "text/plain": [
       "<Figure size 1000x400 with 1 Axes>"
      ]
     },
     "metadata": {},
     "output_type": "display_data"
    }
   ],
   "source": [
    "# Displayl Plot the first 12 images\n",
    "im = make_grid(images[:12], nrow=12)\n",
    "plt.figure(figsize=(10, 4))\n",
    "\n",
    "plt.imshow(np.transpose(im.numpy(), (1, 2, 0))) #(1, 2, 0) -> change from (ch, w, h) to (w, h, ch)"
   ]
  },
  {
   "cell_type": "markdown",
   "id": "070e9c0c",
   "metadata": {},
   "source": [
    "# Create Network  ------------------------- "
   ]
  },
  {
   "cell_type": "code",
   "execution_count": 19,
   "id": "ca8b429a",
   "metadata": {},
   "outputs": [],
   "source": [
    "class MultiLayerPerceptron(nn.Module):\n",
    "    def __init__(self, in_sz=784, out_sz=10, layers=[120, 84]):\n",
    "        super().__init__()\n",
    "        self.fc1 = nn.Linear(in_sz, layers[0])\n",
    "        self.fc2 = nn.Linear(layers[0], layers[1])\n",
    "        self.fc3 = nn.Linear(layers[1], out_sz)\n",
    "        \n",
    "    def forward(self,X):\n",
    "        X = F.relu(self.fc1(X))\n",
    "        X = F.relu(self.fc2(X)) \n",
    "        X = self.fc3(X) \n",
    "        \n",
    "        return F.log_softmax(X, dim=1)"
   ]
  },
  {
   "cell_type": "code",
   "execution_count": 20,
   "id": "c3ef79bf",
   "metadata": {},
   "outputs": [
    {
     "data": {
      "text/plain": [
       "MultiLayerPerceptron(\n",
       "  (fc1): Linear(in_features=784, out_features=120, bias=True)\n",
       "  (fc2): Linear(in_features=120, out_features=84, bias=True)\n",
       "  (fc3): Linear(in_features=84, out_features=10, bias=True)\n",
       ")"
      ]
     },
     "execution_count": 20,
     "metadata": {},
     "output_type": "execute_result"
    }
   ],
   "source": [
    "torch.manual_seed(101)\n",
    "model = MultiLayerPerceptron()\n",
    "model"
   ]
  },
  {
   "cell_type": "markdown",
   "id": "2de6a3a8",
   "metadata": {},
   "source": [
    "# From ANN to CNN "
   ]
  },
  {
   "cell_type": "code",
   "execution_count": 21,
   "id": "5742af9e",
   "metadata": {},
   "outputs": [
    {
     "name": "stdout",
     "output_type": "stream",
     "text": [
      "94080\n",
      "120\n",
      "10080\n",
      "84\n",
      "840\n",
      "10\n"
     ]
    }
   ],
   "source": [
    "for param in model.parameters():\n",
    "    print(param.numel())"
   ]
  },
  {
   "cell_type": "code",
   "execution_count": 22,
   "id": "c1746dcc",
   "metadata": {},
   "outputs": [
    {
     "name": "stdout",
     "output_type": "stream",
     "text": [
      "Total Parameters =  105214\n"
     ]
    }
   ],
   "source": [
    " print('Total Parameters = ', 94080 +120 +10080 +84 + 840 +10)"
   ]
  },
  {
   "cell_type": "markdown",
   "id": "712c9434",
   "metadata": {},
   "source": [
    "# Set the Loss Function and the Optimizer"
   ]
  },
  {
   "cell_type": "code",
   "execution_count": 23,
   "id": "1e810c07",
   "metadata": {},
   "outputs": [
    {
     "data": {
      "text/plain": [
       "\"\\n -> These parameters include weights and biases of all the layers in the model\\nWhen you call `model.parameters()`, you're essentially\\nasking PyTorch to provide you with access to all the model's\\nparameters so that you can update them during training.\\n\""
      ]
     },
     "execution_count": 23,
     "metadata": {},
     "output_type": "execute_result"
    }
   ],
   "source": [
    "criterion = nn.CrossEntropyLoss()\n",
    "optim = torch.optim.Adam(model.parameters(), lr=0.001)\n",
    "\n",
    "\"\"\"\n",
    " -> These parameters include weights and biases of all the layers in the model\n",
    "When you call `model.parameters()`, you're essentially\n",
    "asking PyTorch to provide you with access to all the model's\n",
    "parameters so that you can update them during training.\n",
    "\"\"\""
   ]
  },
  {
   "cell_type": "code",
   "execution_count": 24,
   "id": "e4f62fb3",
   "metadata": {},
   "outputs": [
    {
     "data": {
      "text/plain": [
       "torch.Size([100, 1, 28, 28])"
      ]
     },
     "execution_count": 24,
     "metadata": {},
     "output_type": "execute_result"
    }
   ],
   "source": [
    "images.shape # convert it from [100, 1, 28, 28] to [100, 784]"
   ]
  },
  {
   "cell_type": "code",
   "execution_count": 25,
   "id": "5bf1ac28",
   "metadata": {},
   "outputs": [
    {
     "data": {
      "text/plain": [
       "torch.Size([100, 784])"
      ]
     },
     "execution_count": 25,
     "metadata": {},
     "output_type": "execute_result"
    }
   ],
   "source": [
    "images.view(100, -1).shape"
   ]
  },
  {
   "cell_type": "markdown",
   "id": "78b4f156",
   "metadata": {},
   "source": [
    "# Build the Training Loop"
   ]
  },
  {
   "cell_type": "code",
   "execution_count": 26,
   "id": "b6da9305",
   "metadata": {},
   "outputs": [
    {
     "name": "stdout",
     "output_type": "stream",
     "text": [
      "Epoch: 0  batch: 200  loss: 0.2356237769126892  accuracy: 83.245\n",
      "Epoch: 0  batch: 400  loss: 0.3533070683479309  accuracy: 87.5325\n",
      "Epoch: 0  batch: 600  loss: 0.13765770196914673  accuracy: 89.58166666666666\n",
      "Epoch: 1  batch: 200  loss: 0.24507994949817657  accuracy: 94.88\n",
      "Epoch: 1  batch: 400  loss: 0.1415732353925705  accuracy: 95.105\n",
      "Epoch: 1  batch: 600  loss: 0.07288370281457901  accuracy: 95.36833333333334\n",
      "Epoch: 2  batch: 200  loss: 0.08517584949731827  accuracy: 96.61\n",
      "Epoch: 2  batch: 400  loss: 0.0613258071243763  accuracy: 96.6975\n",
      "Epoch: 2  batch: 600  loss: 0.06279159337282181  accuracy: 96.75\n",
      "Epoch: 3  batch: 200  loss: 0.11695744842290878  accuracy: 97.63\n",
      "Epoch: 3  batch: 400  loss: 0.05154387652873993  accuracy: 97.4875\n",
      "Epoch: 3  batch: 600  loss: 0.03660447522997856  accuracy: 97.51333333333334\n",
      "Epoch: 4  batch: 200  loss: 0.10782866179943085  accuracy: 98.125\n",
      "Epoch: 4  batch: 400  loss: 0.046118758618831635  accuracy: 98.0275\n",
      "Epoch: 4  batch: 600  loss: 0.05378488451242447  accuracy: 98.01666666666667\n",
      "Epoch: 5  batch: 200  loss: 0.00804359931498766  accuracy: 98.375\n",
      "Epoch: 5  batch: 400  loss: 0.04376399517059326  accuracy: 98.4825\n",
      "Epoch: 5  batch: 600  loss: 0.0672515258193016  accuracy: 98.39666666666666\n",
      "Epoch: 6  batch: 200  loss: 0.03463718295097351  accuracy: 98.84\n",
      "Epoch: 6  batch: 400  loss: 0.06882012635469437  accuracy: 98.7125\n",
      "Epoch: 6  batch: 600  loss: 0.0868682935833931  accuracy: 98.67833333333333\n",
      "Epoch: 7  batch: 200  loss: 0.06950414925813675  accuracy: 99.14\n",
      "Epoch: 7  batch: 400  loss: 0.0813923254609108  accuracy: 98.9825\n",
      "Epoch: 7  batch: 600  loss: 0.04631301760673523  accuracy: 98.92833333333333\n",
      "Epoch: 8  batch: 200  loss: 0.0038276941049844027  accuracy: 99.2\n",
      "Epoch: 8  batch: 400  loss: 0.0094925407320261  accuracy: 99.1525\n",
      "Epoch: 8  batch: 600  loss: 0.08732450753450394  accuracy: 99.105\n",
      "Epoch: 9  batch: 200  loss: 0.007064518518745899  accuracy: 99.435\n",
      "Epoch: 9  batch: 400  loss: 0.010543989948928356  accuracy: 99.305\n",
      "Epoch: 9  batch: 600  loss: 0.01788982003927231  accuracy: 99.3\n",
      "Duration: 0.8575902144114177 mins\n"
     ]
    }
   ],
   "source": [
    "import time\n",
    "start_time = time.time()  # Record the start time for tracking the duration of training.\n",
    "\n",
    "# Training ----\n",
    "epochs = 10  \n",
    "# Tracking ----\n",
    "train_losses = []  # store training losses for each epoch.\n",
    "test_losses = []   # store test losses for each epoch.\n",
    "train_correct = []  # store the number of correct predictions on training data for each epoch.\n",
    "test_correct = []   #  the number of correct predictions on test data for each epoch.\n",
    "\n",
    "for i in range(epochs): \n",
    "    trn_corr = 0  \n",
    "    tst_corr = 0 \n",
    "    \n",
    "    # Training the model ---------------------------------------------------------\n",
    "    for b, (X_train, y_train) in enumerate(train_loader):\n",
    "        b += 1  # Increment batch number (just for display purposes).\n",
    "\n",
    "        y_pred = model(X_train.view(100, -1))  # Forward pass: get predictions from the model.\n",
    "        loss = criterion(y_pred, y_train)  # Calculate the loss between predictions and actual labels.\n",
    " \n",
    "        # Get the predicted class index (the index of the maximum value in the output).\n",
    "        predicted = torch.max(y_pred.data, 1)[1]\n",
    "\n",
    "        # Count the number of correct predictions in this batch and add it to the total for this epoch.\n",
    "        batch_corr = (predicted == y_train).sum()\n",
    "        trn_corr += batch_corr\n",
    "\n",
    "        optim.zero_grad()  # Zero out gradients to prevent accumulation.\n",
    "        loss.backward()   # Backpropagation: compute gradients of the model's parameters.\n",
    "        optim.step()      # Optimization step: update model parameters based on gradients.\n",
    "\n",
    "        if b % 200 == 0:\n",
    "            # Calculate and display the accuracy for the current training batch.\n",
    "            accuracy = (trn_corr.item() * 100) / (100 * b)\n",
    "            print(f\"Epoch: {i}  batch: {b}  loss: {loss.item()}  accuracy: {accuracy}\")\n",
    "\n",
    "    train_losses.append(loss.detach().numpy())  # Store the final loss for this epoch in the train_losses list.\n",
    "    train_correct.append(trn_corr.item())  # Store the total number of correct predictions for this epoch.\n",
    "\n",
    "    # Evaluate the model -------------------------------------------------------------------\n",
    "    with torch.no_grad():  # Temporarily disable gradient calculations during evaluation.\n",
    "        for b, (X_test, y_test) in enumerate(test_loader):\n",
    "            b += 1\n",
    "            y_val = model(X_test.view(500, -1))  # Forward pass: get predictions from the model.\n",
    "            predicted = torch.max(y_val.data, 1)[1]  # Get the predicted class index.\n",
    "\n",
    "            # Count the number of correct predictions in this batch and add it to the total for this epoch.\n",
    "            tst_corr += (predicted == y_test).sum()\n",
    "\n",
    "    loss = criterion(y_val, y_test)  # Calculate the loss on the last batch of test data.\n",
    "    test_losses.append(loss.detach().numpy())  # Store the final loss for this epoch in the test_losses list.\n",
    "    test_correct.append(tst_corr.item())  # Store the total number of correct predictions on test data.\n",
    "\n",
    "# Display the Duration. Time that takes to train the model\n",
    "total_time = time.time() - start_time  \n",
    "print(f\"Duration: {total_time/60} mins\")\n"
   ]
  },
  {
   "cell_type": "code",
   "execution_count": 29,
   "id": "ded8cf6d",
   "metadata": {},
   "outputs": [
    {
     "data": {
      "image/png": "[encoded data removed]",
      "text/plain": [
       "<Figure size 640x480 with 1 Axes>"
      ]
     },
     "metadata": {},
     "output_type": "display_data"
    }
   ],
   "source": [
    "plt.plot(train_losses, label='Training loss')\n",
    "plt.plot(test_losses, label='Test loss')\n",
    "plt.legend()\n",
    "plt.show()"
   ]
  },
  {
   "cell_type": "code",
   "execution_count": 38,
   "id": "87697fb3",
   "metadata": {},
   "outputs": [
    {
     "name": "stdout",
     "output_type": "stream",
     "text": [
      "Percentage of correct in Training \n",
      " [89.58166666666666, 95.36833333333334, 96.75, 97.51333333333334, 98.01666666666667, 98.39666666666666, 98.67833333333333, 98.92833333333333, 99.105, 99.3]\n"
     ]
    }
   ],
   "source": [
    "# Percentage of correct \n",
    "train_correct[0] /600 \n",
    "\n",
    "train_acc = [t/600 for t in train_correct]\n",
    "print (f\"Percentage of correct in Training \\n {train_acc}\")"
   ]
  },
  {
   "cell_type": "code",
   "execution_count": 51,
   "id": "8871d2f3",
   "metadata": {},
   "outputs": [
    {
     "data": {
      "text/plain": [
       "[<matplotlib.lines.Line2D at 0x25474b14c10>]"
      ]
     },
     "execution_count": 51,
     "metadata": {},
     "output_type": "execute_result"
    },
    {
     "data": {
      "image/png": "[encoded data removed]",
      "text/plain": [
       "<Figure size 640x480 with 1 Axes>"
      ]
     },
     "metadata": {},
     "output_type": "display_data"
    }
   ],
   "source": [
    "plt.plot(train_acc, label='Training Accuracy')"
   ]
  },
  {
   "cell_type": "markdown",
   "id": "074603eb",
   "metadata": {},
   "source": [
    "# New Unseen Data"
   ]
  },
  {
   "cell_type": "code",
   "execution_count": 40,
   "id": "c71c2b64",
   "metadata": {},
   "outputs": [],
   "source": [
    "test_loader_all = DataLoader(test_data, batch_size=10000, shuffle=False) "
   ]
  },
  {
   "cell_type": "code",
   "execution_count": 45,
   "id": "b20128f5",
   "metadata": {},
   "outputs": [],
   "source": [
    " with torch.no_grad():\n",
    "        correct =0 \n",
    "        \n",
    "        for (X_test, y_test) in test_loader_all:\n",
    "            y_val = model(X_test.view(len(X_test), -1))\n",
    "            predicted = torch.max(y_val.data, 1)[1]\n",
    "\n",
    "            correct += (predicted == y_test).sum()"
   ]
  },
  {
   "cell_type": "code",
   "execution_count": 49,
   "id": "3e0969f9",
   "metadata": {},
   "outputs": [
    {
     "data": {
      "text/plain": [
       "97.73"
      ]
     },
     "execution_count": 49,
     "metadata": {},
     "output_type": "execute_result"
    }
   ],
   "source": [
    "100 * correct.item()/ len(test_data)"
   ]
  },
  {
   "cell_type": "markdown",
   "id": "bfb42024",
   "metadata": {},
   "source": [
    "# Confusion Matrix "
   ]
  },
  {
   "cell_type": "code",
   "execution_count": null,
   "id": "24d8ccef",
   "metadata": {},
   "outputs": [],
   "source": [
    "pip install seaborn"
   ]
  },
  {
   "cell_type": "code",
   "execution_count": 61,
   "id": "a1b69885",
   "metadata": {},
   "outputs": [],
   "source": [
    "cm = confusion_matrix(predicted.view(-1), y_test.view(-1))"
   ]
  },
  {
   "cell_type": "code",
   "execution_count": 68,
   "id": "5c2fe528",
   "metadata": {},
   "outputs": [
    {
     "data": {
      "image/png": "[encoded data removed]",
      "text/plain": [
       "<Figure size 800x600 with 2 Axes>"
      ]
     },
     "metadata": {},
     "output_type": "display_data"
    }
   ],
   "source": [
    "import seaborn as sns\n",
    "from sklearn.metrics import confusion_matrix\n",
    "# Define the colormap (for example, using 'coolwarm' colormap)\n",
    "cmap = 'OrRd'\n",
    "\n",
    "# Plot the confusion matrix using seaborn heatmap\n",
    "plt.figure(figsize=(8, 6))\n",
    "sns.heatmap(cm, annot=True, fmt='d', cmap=cmap)\n",
    "plt.xlabel('Predicted Labels')\n",
    "plt.ylabel('True Labels')\n",
    "plt.title('Confusion Matrix')\n",
    "plt.show()"
   ]
  },
  {
   "cell_type": "code",
   "execution_count": null,
   "id": "06c63426",
   "metadata": {},
   "outputs": [],
   "source": []
  },
  {
   "cell_type": "code",
   "execution_count": null,
   "id": "69503b23",
   "metadata": {},
   "outputs": [],
   "source": []
  },
  {
   "cell_type": "code",
   "execution_count": null,
   "id": "ef79706c",
   "metadata": {},
   "outputs": [],
   "source": []
  },
  {
   "cell_type": "code",
   "execution_count": null,
   "id": "001f8f19",
   "metadata": {},
   "outputs": [],
   "source": []
  },
  {
   "cell_type": "code",
   "execution_count": null,
   "id": "36d10461",
   "metadata": {},
   "outputs": [],
   "source": []
  },
  {
   "cell_type": "code",
   "execution_count": null,
   "id": "acf20380",
   "metadata": {},
   "outputs": [],
   "source": []
  }
 ],
 "metadata": {
  "kernelspec": {
   "display_name": "Python 3 (ipykernel)",
   "language": "python",
   "name": "python3"
  },
  "language_info": {
   "codemirror_mode": {
    "name": "ipython",
    "version": 3
   },
   "file_extension": ".py",
   "mimetype": "text/x-python",
   "name": "python",
   "nbconvert_exporter": "python",
   "pygments_lexer": "ipython3",
   "version": "3.10.12"
  }
 },
 "nbformat": 4,
 "nbformat_minor": 5
}
